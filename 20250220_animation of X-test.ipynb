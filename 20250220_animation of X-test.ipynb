{
 "cells": [
  {
   "cell_type": "code",
   "execution_count": 5,
   "id": "fb31035c-89b5-4c25-aea7-ca7d72d68fd0",
   "metadata": {},
   "outputs": [
    {
     "data": {
      "image/png": "[encoded data removed]",
      "text/plain": [
       "<Figure size 800x600 with 1 Axes>"
      ]
     },
     "metadata": {},
     "output_type": "display_data"
    }
   ],
   "source": [
    "import numpy as np\n",
    "import matplotlib.pyplot as plt\n",
    "from matplotlib.animation import FuncAnimation\n",
    "\n",
    "def create_grid_animation(ntrain0, ndim=2, nn1=20, nn2=20, \n",
    "                        a0=-2, a1=2, b0=-2, b1=2):\n",
    "    # Calculate points\n",
    "    alist = []\n",
    "    blist = []\n",
    "    iskip = int(np.sqrt(float(nn1*nn2) / ntrain0))\n",
    "    if iskip < 1:\n",
    "        iskip = 1\n",
    "        \n",
    "    i = 0\n",
    "    for ii in range(0, nn1, iskip):\n",
    "        for jj in range(0, nn2, iskip):\n",
    "            if i < ntrain0:\n",
    "                alist.append((a1-a0)*float(ii)/float(nn1-1)+a0)\n",
    "                blist.append((b1-b0)*float(jj)/float(nn2-1)+b0)\n",
    "                i += 1\n",
    "    \n",
    "    points = np.column_stack((alist, blist))\n",
    "    \n",
    "    # Create figure and animation\n",
    "    fig, ax = plt.subplots(figsize=(8, 6))\n",
    "    ax.set_xlim(a0, a1)\n",
    "    ax.set_ylim(b0, b1)\n",
    "    ax.grid(True)\n",
    "    scat = ax.scatter([], [], c='blue', alpha=0.6)\n",
    "    \n",
    "    def init():\n",
    "        scat.set_offsets(np.zeros((0, 2)))\n",
    "        return scat,\n",
    "    \n",
    "    def animate(frame):\n",
    "        if frame < len(points):\n",
    "            scat.set_offsets(points[:frame+1])\n",
    "        return scat,\n",
    "    \n",
    "    anim = FuncAnimation(fig, animate, init_func=init,\n",
    "                        frames=len(points), interval=50, \n",
    "                        blit=True)\n",
    "    \n",
    "    plt.show()\n",
    "    return anim\n",
    "\n",
    "# Example usage\n",
    "ntrain0 = 100\n",
    "anim = create_grid_animation(ntrain0)"
   ]
  },
  {
   "cell_type": "code",
   "execution_count": 2,
   "id": "40542a20-513a-4ae4-8bd3-9a39572a09e8",
   "metadata": {},
   "outputs": [
    {
     "name": "stderr",
     "output_type": "stream",
     "text": [
      "2025-02-22 06:02:39.513 python[30277:5741815] +[IMKClient subclass]: chose IMKClient_Modern\n",
      "2025-02-22 06:02:39.513 python[30277:5741815] +[IMKInputSession subclass]: chose IMKInputSession_Modern\n"
     ]
    }
   ],
   "source": [
    "import numpy as np\n",
    "import matplotlib.pyplot as plt\n",
    "from matplotlib.animation import FuncAnimation\n",
    "import matplotlib\n",
    "matplotlib.use('TkAgg')  # Try forcing TkAgg backend\n",
    "\n",
    "def create_grid_animation(ntrain0=100):\n",
    "    # Set up the figure and axis\n",
    "    fig, ax = plt.subplots()\n",
    "    \n",
    "    # Generate points\n",
    "    nn1 = nn2 = 20\n",
    "    a0 = b0 = -2\n",
    "    a1 = b1 = 2\n",
    "    \n",
    "    # Calculate grid points\n",
    "    iskip = int(np.sqrt(float(nn1*nn2) / ntrain0))\n",
    "    iskip = max(1, iskip)\n",
    "    \n",
    "    points = []\n",
    "    for ii in range(0, nn1, iskip):\n",
    "        for jj in range(0, nn2, iskip):\n",
    "            if len(points) < ntrain0:\n",
    "                x = (a1-a0)*float(ii)/float(nn1-1)+a0\n",
    "                y = (b1-b0)*float(jj)/float(nn2-1)+b0\n",
    "                points.append([x, y])\n",
    "    \n",
    "    points = np.array(points)\n",
    "    \n",
    "    # Set up plot\n",
    "    ax.set_xlim(a0-0.5, a1+0.5)\n",
    "    ax.set_ylim(b0-0.5, b1+0.5)\n",
    "    ax.grid(True)\n",
    "    scatter = ax.scatter([], [])\n",
    "    \n",
    "    def animate(frame):\n",
    "        if frame > 0:\n",
    "            current_points = points[:frame]\n",
    "            scatter.set_offsets(current_points)\n",
    "        return scatter,\n",
    "    \n",
    "    anim = FuncAnimation(\n",
    "        fig=fig,\n",
    "        func=animate,\n",
    "        frames=len(points)+1,\n",
    "        interval=100,\n",
    "        blit=True,\n",
    "        repeat=False\n",
    "    )\n",
    "    \n",
    "    plt.show()\n",
    "    return anim\n",
    "\n",
    "# Run the animation\n",
    "anim = create_grid_animation()"
   ]
  },
  {
   "cell_type": "code",
   "execution_count": null,
   "id": "4e15d5ad-2044-4816-aea0-50752ab0730f",
   "metadata": {},
   "outputs": [],
   "source": []
  }
 ],
 "metadata": {
  "kernelspec": {
   "display_name": "Python [conda env:testAI_py3x9]",
   "language": "python",
   "name": "conda-env-testAI_py3x9-py"
  },
  "language_info": {
   "codemirror_mode": {
    "name": "ipython",
    "version": 3
   },
   "file_extension": ".py",
   "mimetype": "text/x-python",
   "name": "python",
   "nbconvert_exporter": "python",
   "pygments_lexer": "ipython3",
   "version": "3.9.15"
  }
 },
 "nbformat": 4,
 "nbformat_minor": 5
}
