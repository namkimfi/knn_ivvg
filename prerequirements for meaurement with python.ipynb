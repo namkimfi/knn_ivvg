{
 "cells": [
  {
   "cell_type": "markdown",
   "id": "909ff97e-7ebb-458b-8bf5-31432e9c9bbc",
   "metadata": {},
   "source": [
    "For M4 ios"
   ]
  },
  {
   "cell_type": "code",
   "execution_count": null,
   "id": "c237b0e5-00b1-4902-b07c-5bd2db0b4a8e",
   "metadata": {},
   "outputs": [],
   "source": [
    "For USB-GPIB communication on an M4 Macpro"
   ]
  },
  {
   "cell_type": "markdown",
   "id": "4a3efa39-1916-464d-a839-caf32be83ced",
   "metadata": {},
   "source": [
    "NI-VISA_23.5.0 installed;\n",
    "Downloading NI-VISA 2023 Q3 from NI website\n",
    "(The NI-VISA driver should be installed at the system level, not in any specific Conda environment. This is because it's a hardware driver that operates at the operating system level, independent of Python environments.)"
   ]
  },
  {
   "cell_type": "markdown",
   "id": "45ca9fce-26ca-4c3c-886c-9b32393eadab",
   "metadata": {},
   "source": [
    "(testAI)에 pyvisa 설치함;\n",
    "conda activate testAI\n",
    "conda install -c conda-forge pyvisa pyvisa-py"
   ]
  },
  {
   "cell_type": "code",
   "execution_count": 1,
   "id": "4bbdff77-bba5-49fd-b979-e827b185aa8a",
   "metadata": {},
   "outputs": [
    {
     "name": "stdout",
     "output_type": "stream",
     "text": [
      "('ASRL1::INSTR', 'ASRL2::INSTR')\n"
     ]
    }
   ],
   "source": [
    "import pyvisa\n",
    "print(pyvisa.ResourceManager().list_resources())"
   ]
  },
  {
   "cell_type": "markdown",
   "id": "4aa45a19-7b28-4f2f-9cdf-6011c6c039d6",
   "metadata": {},
   "source": [
    "(Claude)\n",
    "USB-GPIB 장치가 감지되지 않고 시리얼 포트(ASRL)만 감지되고 있네요. 몇 가지 확인이 필요합니다:\n",
    "\n",
    "GPIB 연결 상태 확인:\n",
    "\n",
    "NI-USB-GPIB 어댑터가 Mac에 제대로 연결되어 있는지\n",
    "Yokogawa 전압 소스가 켜져있는지\n",
    "GPIB 케이블이 양쪽에 잘 연결되어 있는지\n",
    "\n",
    "\n",
    "NI MAX (Measurement & Automation Explorer) 설치 여부:\n",
    "\n",
    "NI-VISA와 함께 설치되었어야 합니다\n",
    "NI MAX에서 GPIB 장치가 보이는지 확인해보세요\n",
    "\n",
    "\n",
    "다른 방식으로 리소스 매니저를 초기화해볼 수 있습니다:"
   ]
  },
  {
   "cell_type": "markdown",
   "id": "34bc16a5-5342-4f96-8a31-7ff52434ed67",
   "metadata": {},
   "source": [
    "NI MAX is only for Windows\n"
   ]
  },
  {
   "cell_type": "markdown",
   "id": "4c9f4299-a1a4-4c1a-a347-4a94d8ddbd7a",
   "metadata": {},
   "source": [
    "NI-488.2 21.5 Patch \n",
    "installed instead of NI MAX"
   ]
  },
  {
   "cell_type": "markdown",
   "id": "a7f624a2-9a58-425f-b511-a0553cf0b207",
   "metadata": {},
   "source": [
    "(**NI-488.2**와 **NI-VISA**의 차이점은?\n",
    "코파일럿 답변;\n",
    "**NI-488.2**와 **NI-VISA**는 둘 다 National Instruments (NI)에서 제공하는 드라이버 패키지이지만, 사용 목적과 기능이 다릅니다.\n",
    "\n",
    "**NI-488.2**:\n",
    "- **GPIB (General Purpose Interface Bus)** 인터페이스를 관리합니다.\n",
    "- GPIB 장비와 컴퓨터 간의 통신을 가능하게 합니다.\n",
    "- **LabVIEW**, **LabWindows/CVI**, **NI TestStand** 등의 NI 소프트웨어와 호환됩니다.\n",
    "- 주로 **GPIB 하드웨어**를 제어하고 관리하는 데 사용됩니다.\n",
    "\n",
    "**NI-VISA**:\n",
    "- **VISA (Virtual Instrument Software Architecture)**를 사용하여 다양한 인터페이스(Ethernet, GPIB, 시리얼, USB)를 통한 계측기와의 통신을 가능하게 합니다.\n",
    "- NI뿐만 아니라 다른 제조업체의 계측기와도 호환됩니다.\n",
    "- **LabVIEW**, **Microsoft Visual Studio** 등 다양한 프로그래밍 환경에서 사용됩니다.\n",
    "- 계측기 설정, 제어 및 데이터를 수집할 수 있는 범용 소프트웨어 프레임워크를 제공합니다.\n",
    "\n",
    "즉, NI-488.2는 GPIB 인터페이스에 특화된 드라이버인 반면, NI-VISA는 여러 인터페이스를 지원하는 보다 범용적인 드라이버 패키지입니다. \n",
    "\n",
    "더 궁금한 점이 있으면 언제든지 알려주세요!)"
   ]
  },
  {
   "cell_type": "markdown",
   "id": "751f1d22-5e24-4a49-b40a-9c1946f77b5a",
   "metadata": {},
   "source": [
    "conda activate testAI  # 또는 사용하시는 환경\n",
    "conda install -c conda-forge gpib-ctypes"
   ]
  },
  {
   "cell_type": "markdown",
   "id": "260a060d-7876-4790-996e-f59f60a3c30b",
   "metadata": {},
   "source": [
    "(error message)\n",
    "PackagesNotFoundError: The following packages are not available from current channels:\n",
    "\n",
    "  - gpib-ctypes\n",
    "\n",
    "Current channels:\n",
    "\n",
    "  - https://conda.anaconda.org/conda-forge\n",
    "  - defaults\n",
    "  - https://repo.anaconda.com/pkgs/main\n",
    "  - https://repo.anaconda.com/pkgs/r\n",
    "\n",
    "To search for alternate channels that may provide the conda package you're\n",
    "looking for, navigate to\n",
    "\n",
    "    https://anaconda.org\n",
    "\n",
    "and use the search bar at the top of the page."
   ]
  },
  {
   "cell_type": "code",
   "execution_count": null,
   "id": "26fa4b72-ac70-4c53-ac98-9d75aa62234a",
   "metadata": {},
   "outputs": [],
   "source": [
    "pip install gpib-ctypes \n",
    "설치됨"
   ]
  },
  {
   "cell_type": "code",
   "execution_count": 7,
   "id": "70f4124c-1cd6-46b6-9660-9975c46d7d75",
   "metadata": {},
   "outputs": [
    {
     "ename": "LibraryError",
     "evalue": "Error while accessing ni: dlopen(ni, 0x0006): tried: 'ni' (no such file), '/System/Volumes/Preboot/Cryptexes/OSni' (no such file), '/Users/namkim/opt/anaconda3/envs/testAI/lib/python3.11/lib-dynload/../../ni' (no such file), '/Users/namkim/opt/anaconda3/envs/testAI/bin/../lib/ni' (no such file), '/usr/lib/ni' (no such file, not in dyld cache), 'ni' (no such file), '/usr/local/lib/ni' (no such file), '/usr/lib/ni' (no such file, not in dyld cache)",
     "output_type": "error",
     "traceback": [
      "\u001b[0;31m---------------------------------------------------------------------------\u001b[0m",
      "\u001b[0;31mOSError\u001b[0m                                   Traceback (most recent call last)",
      "File \u001b[0;32m~/opt/anaconda3/envs/testAI/lib/python3.11/site-packages/pyvisa/ctwrapper/highlevel.py:162\u001b[0m, in \u001b[0;36mIVIVisaLibrary._init\u001b[0;34m(self)\u001b[0m\n\u001b[1;32m    161\u001b[0m \u001b[38;5;28;01mtry\u001b[39;00m:\n\u001b[0;32m--> 162\u001b[0m     lib \u001b[38;5;241m=\u001b[39m Library(\u001b[38;5;28mself\u001b[39m\u001b[38;5;241m.\u001b[39mlibrary_path)\n\u001b[1;32m    163\u001b[0m \u001b[38;5;28;01mexcept\u001b[39;00m \u001b[38;5;167;01mOSError\u001b[39;00m \u001b[38;5;28;01mas\u001b[39;00m exc:\n",
      "File \u001b[0;32m~/opt/anaconda3/envs/testAI/lib/python3.11/ctypes/__init__.py:376\u001b[0m, in \u001b[0;36mCDLL.__init__\u001b[0;34m(self, name, mode, handle, use_errno, use_last_error, winmode)\u001b[0m\n\u001b[1;32m    375\u001b[0m \u001b[38;5;28;01mif\u001b[39;00m handle \u001b[38;5;129;01mis\u001b[39;00m \u001b[38;5;28;01mNone\u001b[39;00m:\n\u001b[0;32m--> 376\u001b[0m     \u001b[38;5;28mself\u001b[39m\u001b[38;5;241m.\u001b[39m_handle \u001b[38;5;241m=\u001b[39m _dlopen(\u001b[38;5;28mself\u001b[39m\u001b[38;5;241m.\u001b[39m_name, mode)\n\u001b[1;32m    377\u001b[0m \u001b[38;5;28;01melse\u001b[39;00m:\n",
      "\u001b[0;31mOSError\u001b[0m: dlopen(ni, 0x0006): tried: 'ni' (no such file), '/System/Volumes/Preboot/Cryptexes/OSni' (no such file), '/Users/namkim/opt/anaconda3/envs/testAI/lib/python3.11/lib-dynload/../../ni' (no such file), '/Users/namkim/opt/anaconda3/envs/testAI/bin/../lib/ni' (no such file), '/usr/lib/ni' (no such file, not in dyld cache), 'ni' (no such file), '/usr/local/lib/ni' (no such file), '/usr/lib/ni' (no such file, not in dyld cache)",
      "\nDuring handling of the above exception, another exception occurred:\n",
      "\u001b[0;31mLibraryError\u001b[0m                              Traceback (most recent call last)",
      "Cell \u001b[0;32mIn[7], line 5\u001b[0m\n\u001b[1;32m      2\u001b[0m \u001b[38;5;28;01mimport\u001b[39;00m \u001b[38;5;21;01mpyvisa\u001b[39;00m\n\u001b[1;32m      4\u001b[0m \u001b[38;5;66;03m# NI 백엔드를 명시적으로 지정\u001b[39;00m\n\u001b[0;32m----> 5\u001b[0m rm \u001b[38;5;241m=\u001b[39m pyvisa\u001b[38;5;241m.\u001b[39mResourceManager(\u001b[38;5;124m'\u001b[39m\u001b[38;5;124mni\u001b[39m\u001b[38;5;124m'\u001b[39m)\n\u001b[1;32m      6\u001b[0m \u001b[38;5;28mprint\u001b[39m(rm\u001b[38;5;241m.\u001b[39mlist_resources())\n",
      "File \u001b[0;32m~/opt/anaconda3/envs/testAI/lib/python3.11/site-packages/pyvisa/highlevel.py:2992\u001b[0m, in \u001b[0;36mResourceManager.__new__\u001b[0;34m(cls, visa_library)\u001b[0m\n\u001b[1;32m   2982\u001b[0m \u001b[38;5;250m\u001b[39m\u001b[38;5;124;03m\"\"\"Create a new resource manager tied to the specified VISA library.\u001b[39;00m\n\u001b[1;32m   2983\u001b[0m \n\u001b[1;32m   2984\u001b[0m \u001b[38;5;124;03mParameters\u001b[39;00m\n\u001b[0;32m   (...)\u001b[0m\n\u001b[1;32m   2989\u001b[0m \n\u001b[1;32m   2990\u001b[0m \u001b[38;5;124;03m\"\"\"\u001b[39;00m\n\u001b[1;32m   2991\u001b[0m \u001b[38;5;28;01mif\u001b[39;00m \u001b[38;5;129;01mnot\u001b[39;00m \u001b[38;5;28misinstance\u001b[39m(visa_library, VisaLibraryBase):\n\u001b[0;32m-> 2992\u001b[0m     visa_library \u001b[38;5;241m=\u001b[39m open_visa_library(visa_library)\n\u001b[1;32m   2994\u001b[0m \u001b[38;5;28;01mif\u001b[39;00m visa_library\u001b[38;5;241m.\u001b[39mresource_manager \u001b[38;5;129;01mis\u001b[39;00m \u001b[38;5;129;01mnot\u001b[39;00m \u001b[38;5;28;01mNone\u001b[39;00m:\n\u001b[1;32m   2995\u001b[0m     obj \u001b[38;5;241m=\u001b[39m visa_library\u001b[38;5;241m.\u001b[39mresource_manager\n",
      "File \u001b[0;32m~/opt/anaconda3/envs/testAI/lib/python3.11/site-packages/pyvisa/highlevel.py:2904\u001b[0m, in \u001b[0;36mopen_visa_library\u001b[0;34m(specification)\u001b[0m\n\u001b[1;32m   2901\u001b[0m \u001b[38;5;28mcls\u001b[39m \u001b[38;5;241m=\u001b[39m get_wrapper_class(wrapper)\n\u001b[1;32m   2903\u001b[0m \u001b[38;5;28;01mtry\u001b[39;00m:\n\u001b[0;32m-> 2904\u001b[0m     \u001b[38;5;28;01mreturn\u001b[39;00m \u001b[38;5;28mcls\u001b[39m(argument)\n\u001b[1;32m   2905\u001b[0m \u001b[38;5;28;01mexcept\u001b[39;00m \u001b[38;5;167;01mException\u001b[39;00m \u001b[38;5;28;01mas\u001b[39;00m e:\n\u001b[1;32m   2906\u001b[0m     logger\u001b[38;5;241m.\u001b[39mdebug(\u001b[38;5;124m\"\u001b[39m\u001b[38;5;124mCould not open VISA wrapper \u001b[39m\u001b[38;5;132;01m%s\u001b[39;00m\u001b[38;5;124m: \u001b[39m\u001b[38;5;132;01m%s\u001b[39;00m\u001b[38;5;130;01m\\n\u001b[39;00m\u001b[38;5;132;01m%s\u001b[39;00m\u001b[38;5;124m\"\u001b[39m, \u001b[38;5;28mcls\u001b[39m, \u001b[38;5;28mstr\u001b[39m(argument), e)\n",
      "File \u001b[0;32m~/opt/anaconda3/envs/testAI/lib/python3.11/site-packages/pyvisa/highlevel.py:191\u001b[0m, in \u001b[0;36mVisaLibraryBase.__new__\u001b[0;34m(cls, library_path)\u001b[0m\n\u001b[1;32m    187\u001b[0m obj\u001b[38;5;241m.\u001b[39mlibrary_path \u001b[38;5;241m=\u001b[39m lib_path\n\u001b[1;32m    189\u001b[0m obj\u001b[38;5;241m.\u001b[39m_logging_extra \u001b[38;5;241m=\u001b[39m {\u001b[38;5;124m\"\u001b[39m\u001b[38;5;124mlibrary_path\u001b[39m\u001b[38;5;124m\"\u001b[39m: obj\u001b[38;5;241m.\u001b[39mlibrary_path}\n\u001b[0;32m--> 191\u001b[0m obj\u001b[38;5;241m.\u001b[39m_init()\n\u001b[1;32m    193\u001b[0m \u001b[38;5;66;03m# Create instance specific registries.\u001b[39;00m\n\u001b[1;32m    194\u001b[0m \u001b[38;5;66;03m#: Error codes on which to issue a warning.\u001b[39;00m\n\u001b[1;32m    195\u001b[0m obj\u001b[38;5;241m.\u001b[39missue_warning_on \u001b[38;5;241m=\u001b[39m \u001b[38;5;28mset\u001b[39m(errors\u001b[38;5;241m.\u001b[39mdefault_warnings)\n",
      "File \u001b[0;32m~/opt/anaconda3/envs/testAI/lib/python3.11/site-packages/pyvisa/ctwrapper/highlevel.py:164\u001b[0m, in \u001b[0;36mIVIVisaLibrary._init\u001b[0;34m(self)\u001b[0m\n\u001b[1;32m    162\u001b[0m     lib \u001b[38;5;241m=\u001b[39m Library(\u001b[38;5;28mself\u001b[39m\u001b[38;5;241m.\u001b[39mlibrary_path)\n\u001b[1;32m    163\u001b[0m \u001b[38;5;28;01mexcept\u001b[39;00m \u001b[38;5;167;01mOSError\u001b[39;00m \u001b[38;5;28;01mas\u001b[39;00m exc:\n\u001b[0;32m--> 164\u001b[0m     \u001b[38;5;28;01mraise\u001b[39;00m errors\u001b[38;5;241m.\u001b[39mLibraryError\u001b[38;5;241m.\u001b[39mfrom_exception(exc, \u001b[38;5;28mself\u001b[39m\u001b[38;5;241m.\u001b[39mlibrary_path)\n\u001b[1;32m    166\u001b[0m \u001b[38;5;28mself\u001b[39m\u001b[38;5;241m.\u001b[39mlib \u001b[38;5;241m=\u001b[39m lib\n\u001b[1;32m    167\u001b[0m \u001b[38;5;28mself\u001b[39m\u001b[38;5;241m.\u001b[39m_async_read_jobs: List[Tuple[types\u001b[38;5;241m.\u001b[39mViJobId, SupportsBytes]] \u001b[38;5;241m=\u001b[39m []\n",
      "\u001b[0;31mLibraryError\u001b[0m: Error while accessing ni: dlopen(ni, 0x0006): tried: 'ni' (no such file), '/System/Volumes/Preboot/Cryptexes/OSni' (no such file), '/Users/namkim/opt/anaconda3/envs/testAI/lib/python3.11/lib-dynload/../../ni' (no such file), '/Users/namkim/opt/anaconda3/envs/testAI/bin/../lib/ni' (no such file), '/usr/lib/ni' (no such file, not in dyld cache), 'ni' (no such file), '/usr/local/lib/ni' (no such file), '/usr/lib/ni' (no such file, not in dyld cache)"
     ]
    }
   ],
   "source": [
    "#test\n",
    "import pyvisa\n",
    "\n",
    "# NI 백엔드를 명시적으로 지정\n",
    "rm = pyvisa.ResourceManager('ni')\n",
    "print(rm.list_resources())\n",
    "\n",
    "# 또는 @py 백엔드 시도\n",
    "# rm = pyvisa.ResourceManager('@py')\n",
    "# print(rm.list_resources())"
   ]
  },
  {
   "cell_type": "markdown",
   "id": "c757e567-2233-4cd9-85c8-d9fd1c5dfd7c",
   "metadata": {},
   "source": [
    "이 오류는 PyVISA를 사용하려고 시도하셨는데, 우리는 이미 gpib-ctypes로 방향을 바꾸었기 때문에 발생했습니다.\n",
    "gpib-ctypes를 설치하셨으니, PyVISA 대신 다음 코드를 사용해보세요:"
   ]
  },
  {
   "cell_type": "code",
   "execution_count": 5,
   "id": "614bf1ac-3293-40de-aee1-6162f30dc786",
   "metadata": {},
   "outputs": [
    {
     "ename": "ModuleNotFoundError",
     "evalue": "No module named 'gpib'",
     "output_type": "error",
     "traceback": [
      "\u001b[0;31m---------------------------------------------------------------------------\u001b[0m",
      "\u001b[0;31mModuleNotFoundError\u001b[0m                       Traceback (most recent call last)",
      "Cell \u001b[0;32mIn[5], line 1\u001b[0m\n\u001b[0;32m----> 1\u001b[0m \u001b[38;5;28;01mimport\u001b[39;00m \u001b[38;5;21;01mgpib\u001b[39;00m\n\u001b[1;32m      3\u001b[0m \u001b[38;5;28;01mtry\u001b[39;00m:\n\u001b[1;32m      4\u001b[0m     \u001b[38;5;66;03m# GPIB 디바이스 리스트 확인 (일반적으로 보드 인덱스는 0)\u001b[39;00m\n\u001b[1;32m      5\u001b[0m     \u001b[38;5;66;03m# Yokogawa의 GPIB 주소를 확인하고 아래 숫자(1)를 해당 주소로 변경하세요\u001b[39;00m\n\u001b[1;32m      6\u001b[0m     device \u001b[38;5;241m=\u001b[39m gpib\u001b[38;5;241m.\u001b[39mdev(\u001b[38;5;241m0\u001b[39m, \u001b[38;5;241m1\u001b[39m)  \n",
      "\u001b[0;31mModuleNotFoundError\u001b[0m: No module named 'gpib'"
     ]
    }
   ],
   "source": [
    "import gpib\n",
    "\n",
    "try:\n",
    "    # GPIB 디바이스 리스트 확인 (일반적으로 보드 인덱스는 0)\n",
    "    # Yokogawa의 GPIB 주소를 확인하고 아래 숫자(1)를 해당 주소로 변경하세요\n",
    "    device = gpib.dev(0, 1)  \n",
    "    \n",
    "    # 장비 ID 확인\n",
    "    gpib.write(device, \"*IDN?\")\n",
    "    response = gpib.read(device, 100)\n",
    "    print(\"Device response:\", response)\n",
    "    \n",
    "except gpib.GpibError as e:\n",
    "    print(\"GPIB Error:\", e)"
   ]
  },
  {
   "cell_type": "markdown",
   "id": "3774e7e8-38a9-4be6-b41c-53fe672c523e",
   "metadata": {},
   "source": [
    "만약 위 방법들이 실패한다면, PyVISA-py를 사용하는 방법으로 전환할 수 있습니다:\n",
    "pip install pyvisa-py\n",
    "성공적인 설치"
   ]
  },
  {
   "cell_type": "code",
   "execution_count": 1,
   "id": "8125225c-7546-4cec-99eb-02fb2da0bccf",
   "metadata": {},
   "outputs": [
    {
     "name": "stderr",
     "output_type": "stream",
     "text": [
      "/Users/namkim/opt/anaconda3/envs/testAI/lib/python3.11/site-packages/gpib_ctypes/gpib/gpib.py:54: UserWarning: GPIB library not found. Please manually load it using _load_lib(filename). All GPIB functions will raise OSError until the library is manually loaded.\n",
      "  warnings.warn(message)\n"
     ]
    },
    {
     "name": "stdout",
     "output_type": "stream",
     "text": [
      "('ASRL/dev/cu.debug-console::INSTR', 'ASRL/dev/cu.Bluetooth-Incoming-Port::INSTR')\n"
     ]
    },
    {
     "name": "stderr",
     "output_type": "stream",
     "text": [
      "/Users/namkim/opt/anaconda3/envs/testAI/lib/python3.11/site-packages/pyvisa_py/tcpip.py:122: UserWarning: TCPIP::hislip resource discovery requires the zeroconf package to be installed... try 'pip install zeroconf'\n",
      "  warnings.warn(\n"
     ]
    }
   ],
   "source": [
    "#test\n",
    "import pyvisa\n",
    "\n",
    "rm = pyvisa.ResourceManager('@py')\n",
    "print(rm.list_resources())"
   ]
  },
  {
   "cell_type": "code",
   "execution_count": null,
   "id": "f7f62c3c-2fc7-434f-a283-3c6665321f88",
   "metadata": {},
   "outputs": [],
   "source": [
    "NI-SysCfg-2023Q3 \n",
    "NI.com 에서 다운받고 설치함 \n",
    "(안병무 박사의 조언에 따라서, NI.com에서 NI Max 찾기를 하면 ios 버전을 다운받을 수 있음)\n",
    "--> 그래도 기기랑 연결안됨"
   ]
  }
 ],
 "metadata": {
  "kernelspec": {
   "display_name": "Python 3 (ipykernel)",
   "language": "python",
   "name": "python3"
  },
  "language_info": {
   "codemirror_mode": {
    "name": "ipython",
    "version": 3
   },
   "file_extension": ".py",
   "mimetype": "text/x-python",
   "name": "python",
   "nbconvert_exporter": "python",
   "pygments_lexer": "ipython3",
   "version": "3.11.8"
  }
 },
 "nbformat": 4,
 "nbformat_minor": 5
}
