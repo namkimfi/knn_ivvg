{
 "cells": [
  {
   "cell_type": "code",
   "execution_count": null,
   "id": "c237b0e5-00b1-4902-b07c-5bd2db0b4a8e",
   "metadata": {},
   "outputs": [],
   "source": [
    "For USB-GPIB communication on an M4 Macpro"
   ]
  },
  {
   "cell_type": "markdown",
   "id": "4a3efa39-1916-464d-a839-caf32be83ced",
   "metadata": {},
   "source": [
    "Downloading NI-VISA 2023 Q3 from NI website for macpro m4\n",
    "(The NI-VISA driver should be installed at the system level, not in any specific Conda environment. This is because it's a hardware driver that operates at the operating system level, independent of Python environments.)"
   ]
  },
  {
   "cell_type": "markdown",
   "id": "fc5bfc80-8ee3-40ce-89a8-bb1c9a8a870f",
   "metadata": {},
   "source": [
    "(NK)\n",
    "다운로드된 ni-visa 드라이버를 설치하려고 했으나 다음과 같은 에러 메시지를 받았읍니다.;Apple은 ‘NI-VISA_Full_23.5.0’에 사용자의 Mac에 손상을 입히거나 사용자의 개인정보에 침입할 수 있는 악성 코드가 없음을 확인할 수 없습니다.\n",
    "\n",
    "(Claude)\n",
    "macOS의 보안 설정 때문에 발생하는 일반적인 문제입니다. 다음과 같은 방법으로 해결할 수 있습니다:\n",
    "\n",
    "1. 시스템 설정(System Settings) 열기\n",
    "\n",
    "2. '개인정보 보호 및 보안'(Privacy & Security) 선택\n",
    "\n",
    "3. 화면 하단의 \"Security\" 섹션으로 스크롤하면 차단된 NI-VISA 설치 관련 메시지가 보일 것입니다.\n",
    "\n",
    "4. \"Open Anyway\" 또는 \"허용\"(Allow) 버튼을 클릭\n",
    "\n",
    "5. 관리자 암호를 입력해야 할 수 있습니다"
   ]
  },
  {
   "cell_type": "markdown",
   "id": "45ca9fce-26ca-4c3c-886c-9b32393eadab",
   "metadata": {},
   "source": [
    "(파이썬 환경 (testAI)에 pyvisa 설치함);\n",
    "conda activate testAI\n",
    "conda install -c conda-forge pyvisa pyvisa-py"
   ]
  }
 ],
 "metadata": {
  "kernelspec": {
   "display_name": "Python 3 (ipykernel)",
   "language": "python",
   "name": "python3"
  },
  "language_info": {
   "codemirror_mode": {
    "name": "ipython",
    "version": 3
   },
   "file_extension": ".py",
   "mimetype": "text/x-python",
   "name": "python",
   "nbconvert_exporter": "python",
   "pygments_lexer": "ipython3",
   "version": "3.11.8"
  }
 },
 "nbformat": 4,
 "nbformat_minor": 5
}
