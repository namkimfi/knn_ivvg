{
 "cells": [
  {
   "cell_type": "code",
   "execution_count": 1,
   "id": "3227db62-1785-4a55-993e-4a1d40530788",
   "metadata": {},
   "outputs": [],
   "source": [
    "import numpy as np\n",
    "from sklearn.neighbors import KNeighborsRegressor\n",
    "from sklearn.gaussian_process import GaussianProcessRegressor\n",
    "from sklearn.gaussian_process.kernels import RBF\n",
    "from sklearn.gaussian_process.kernels import DotProduct, WhiteKernel, ConstantKernel\n",
    "from sklearn.metrics import r2_score\n",
    "from sklearn.metrics import mean_squared_error\n",
    "import matplotlib.pyplot as plt\n",
    "from mpl_toolkits.mplot3d import Axes3D\n",
    "import time\n",
    "import os\n",
    "import shutil"
   ]
  },
  {
   "cell_type": "code",
   "execution_count": 15,
   "id": "d4d82ce9-33a7-4717-8da9-355b078c298e",
   "metadata": {},
   "outputs": [],
   "source": [
    "mm1 = 200\n",
    "mm2 = 200\n",
    "a0 = 0.0\n",
    "a1 = -1.0\n",
    "b0 = 0.3\n",
    "b1 = 0.5\n",
    "b = np.arange(a0, a1, (a1-a0)/mm1)\n",
    "d = np.arange(b0, b1, (b1-b0)/mm2)\n",
    "B, D = np.meshgrid(b, d)\n",
    "n, m = B.shape"
   ]
  },
  {
   "cell_type": "code",
   "execution_count": 17,
   "id": "3231bc8f-b530-4c09-a4cc-65fe025ad634",
   "metadata": {},
   "outputs": [],
   "source": [
    "nuarray = np.zeros((20, 200, 200))\n",
    "for jter in range(20):\n",
    "    fname_accum = '/Users/user/Dropbox/실험일지/2025 실험/4K JSLee/20250207 acuum(iter=20)/accum_'+str(jter)+'.npy'\n",
    "    #Info.fname_accum = fname_accum\n",
    "    if True:\n",
    "        #gname = Info.fname_accum[:-4] + '.npy'\n",
    "        with open(fname_accum, 'rb') as afile:\n",
    "            nu = np.load(afile)\n",
    "            st = np.load(afile)\n",
    "        nuarray[jter, :, :] = nu[:, :]"
   ]
  },
  {
   "cell_type": "code",
   "execution_count": 19,
   "id": "fa1f9bf2-8853-48f3-8c26-11411743e7ac",
   "metadata": {},
   "outputs": [
    {
     "ename": "KeyboardInterrupt",
     "evalue": "",
     "output_type": "error",
     "traceback": [
      "\u001b[0;31m---------------------------------------------------------------------------\u001b[0m",
      "\u001b[0;31mKeyboardInterrupt\u001b[0m                         Traceback (most recent call last)",
      "Cell \u001b[0;32mIn[19], line 18\u001b[0m\n\u001b[1;32m     16\u001b[0m \u001b[38;5;28;01mfor\u001b[39;00m k \u001b[38;5;129;01min\u001b[39;00m \u001b[38;5;28mrange\u001b[39m(\u001b[38;5;28mlen\u001b[39m(z)):\n\u001b[1;32m     17\u001b[0m     \u001b[38;5;28;01mfor\u001b[39;00m i0 \u001b[38;5;129;01min\u001b[39;00m \u001b[38;5;28mrange\u001b[39m(\u001b[38;5;241m200\u001b[39m):\n\u001b[0;32m---> 18\u001b[0m         \u001b[38;5;28;01mif\u001b[39;00m np\u001b[38;5;241m.\u001b[39mabs(x[k]\u001b[38;5;241m-\u001b[39mb[i0]) \u001b[38;5;241m<\u001b[39m \u001b[38;5;241m1e-3\u001b[39m:\n\u001b[1;32m     19\u001b[0m             \u001b[38;5;28;01mfor\u001b[39;00m j0 \u001b[38;5;129;01min\u001b[39;00m \u001b[38;5;28mrange\u001b[39m(\u001b[38;5;241m200\u001b[39m):\n\u001b[1;32m     20\u001b[0m                 \u001b[38;5;28;01mif\u001b[39;00m np\u001b[38;5;241m.\u001b[39mabs(y[k]\u001b[38;5;241m-\u001b[39md[j0]) \u001b[38;5;241m<\u001b[39m \u001b[38;5;241m1e-3\u001b[39m:\n",
      "\u001b[0;31mKeyboardInterrupt\u001b[0m: "
     ]
    }
   ],
   "source": [
    "etam = np.zeros(20)\n",
    "for jter in range(20):\n",
    "    fname_accum = '/Users/user/Dropbox/실험일지/2025 실험/4K JSLee/20250207 acuum(iter=20)/accum_'+str(jter)+'.txt'\n",
    "    x = []\n",
    "    y = []\n",
    "    z = []\n",
    "    afile = open(fname_accum, 'r')\n",
    "    for line in afile:\n",
    "        x.append(float(line.split()[0]))\n",
    "        y.append(float(line.split()[1]))\n",
    "        z.append(float(line.split()[2]))\n",
    "    afile.close()\n",
    "    #Info.fname_accum = fname_accum\n",
    "    etam[jter] = 0.\n",
    "    count = 0.\n",
    "    for k in range(len(z)):\n",
    "        for i0 in range(200):\n",
    "            if np.abs(x[k]-b[i0]) < 1e-3:\n",
    "                for j0 in range(200):\n",
    "                    if np.abs(y[k]-d[j0]) < 1e-3:\n",
    "                        etam[jter] = etam[jter] + (z[k]-nuarray[0, i0, j0])**2\n",
    "                        count = count+1."
   ]
  },
  {
   "cell_type": "code",
   "execution_count": null,
   "id": "9220f6e9-5ae9-49aa-ba83-3c4fe7bd853c",
   "metadata": {},
   "outputs": [],
   "source": [
    "np.sqrt(np.sum(etam))/count/20."
   ]
  },
  {
   "cell_type": "code",
   "execution_count": 24,
   "id": "db5c294f-ff51-4438-9498-8bb95aea7fe4",
   "metadata": {},
   "outputs": [],
   "source": [
    "etap = np.zeros(20)\n",
    "for jter in range(20):\n",
    "    fname_accum = '/Users/user/Dropbox/실험일지/2025 실험/4K JSLee/20250207 acuum(iter=20)/accum_'+str(jter)+'.txt'\n",
    "    #Info.fname_accum = fname_accum\n",
    "    etap[jter] = 0.\n",
    "    count = 0.\n",
    "    for i0 in range(200):\n",
    "        for j0 in range(200):\n",
    "            etap[jter] = etap[jter] + (nuarray[jter, i0, j0]-nuarray[0, i0, j0])**2\n",
    "            count = count+1."
   ]
  },
  {
   "cell_type": "code",
   "execution_count": 26,
   "id": "5b53ab65-d852-4743-bdf7-ccc069673344",
   "metadata": {},
   "outputs": [
    {
     "data": {
      "text/plain": [
       "np.float64(5.637089469457365e-05)"
      ]
     },
     "execution_count": 26,
     "metadata": {},
     "output_type": "execute_result"
    }
   ],
   "source": [
    "np.sqrt(np.sum(etap))/count/20."
   ]
  },
  {
   "cell_type": "code",
   "execution_count": null,
   "id": "6f47dbb2-9a00-4872-907e-1fd4b231cc01",
   "metadata": {},
   "outputs": [],
   "source": []
  },
  {
   "cell_type": "code",
   "execution_count": null,
   "id": "b0f4d949-a384-45af-ac68-4c66e4642c3f",
   "metadata": {},
   "outputs": [],
   "source": []
  },
  {
   "cell_type": "code",
   "execution_count": null,
   "id": "fe740052-9545-4530-8794-cf6c3f207728",
   "metadata": {},
   "outputs": [],
   "source": [
    "nexp = 3\n",
    "xyz = np.zeros((nexp, 200, 200))\n",
    "for jter in range(nexp):\n",
    "    fname_accum = 'data_iv_' + str(jter+1) + '.txt'\n",
    "    x = []\n",
    "    y = []\n",
    "    z = []\n",
    "    afile = open(fname_accum, 'r')\n",
    "    for line in afile:\n",
    "        y.append(float(line.split()[0]))\n",
    "        x.append(float(line.split()[1]))\n",
    "        z.append(float(line.split()[2]))\n",
    "    afile.close()\n",
    "    z = np.array(z)\n",
    "    x = np.array(x)\n",
    "    y = np.array(y)\n",
    "    xx = np.zeros((200, 200))\n",
    "    yy = np.zeros((200, 200))\n",
    "    zz = np.zeros((200, 200))\n",
    "    k = 0\n",
    "    for i in range(200):\n",
    "        for j in range(200):\n",
    "            xx[i, j] = x[k]\n",
    "            yy[i, j] = y[k]\n",
    "            zz[i, j] = z[k]\n",
    "            k = k+1\n",
    "    if False:\n",
    "        print(len(z))\n",
    "    xyz[jter, :, :] = xx[:, :]\n",
    "    xyz[jter, :, :] = yy[:, :]\n",
    "    xyz[jter, :, :] = zz[:, :]"
   ]
  },
  {
   "cell_type": "code",
   "execution_count": null,
   "id": "af4bb091-84ad-476a-a27c-ca5237444fb1",
   "metadata": {},
   "outputs": [],
   "source": [
    "zavgexp = np.zeros((200, 200))\n",
    "for i in range(200):\n",
    "    for j in range(200):\n",
    "        zavgexp[i, j] = sum(xyz[:, i, j])/nexp"
   ]
  },
  {
   "cell_type": "code",
   "execution_count": null,
   "id": "ccbcb8de-a515-4274-bc8e-ef07b8aadff8",
   "metadata": {},
   "outputs": [],
   "source": [
    "tmp = np.zeros((nexp, 200, 200))\n",
    "for iexp in range(nexp):\n",
    "    tmp[iexp, :, :] = ((xyz[iexp, :, :]-zavgexp[:, :])/zavgexp[:, :])**2"
   ]
  },
  {
   "cell_type": "code",
   "execution_count": null,
   "id": "af7f4a04-6352-4486-b5ff-52b49e4bcea0",
   "metadata": {},
   "outputs": [],
   "source": [
    "tmp = np.zeros((nexp, 200, 200))\n",
    "for iexp in range(nexp):\n",
    "    tmp[iexp, :, :] = ((xyz[iexp, :, :]-zavgexp[:, :]))**2"
   ]
  },
  {
   "cell_type": "code",
   "execution_count": null,
   "id": "daddbd71-e5ad-43bd-9aac-646c25505183",
   "metadata": {},
   "outputs": [],
   "source": [
    "savgexp = np.zeros((200, 200))\n",
    "for i in range(200):\n",
    "    for j in range(200):\n",
    "        savgexp[i, j] = np.sqrt(sum(tmp[:, i, j])/nexp)"
   ]
  },
  {
   "cell_type": "code",
   "execution_count": null,
   "id": "3ae60fbd-6145-4eb5-886e-442bcdbdd87f",
   "metadata": {},
   "outputs": [],
   "source": [
    "nuarray = np.zeros((nexp, 200, 200))\n",
    "for iexp in range(nexp):\n",
    "    fname_accum = r'C:\\Users\\Inho Lee\\testAI\\data_kn(ts=0.3)_20250211'+'/accum_'+str(jter)+'.npy'\n",
    "    with open(fname_accum, 'rb') as afile:\n",
    "        nu = np.load(afile)\n",
    "        st = np.load(afile)\n",
    "        nuarray[iexp, :, :] = nu[:, :]"
   ]
  },
  {
   "cell_type": "code",
   "execution_count": null,
   "id": "13264ffc-ac4a-4697-9105-97982f0596ab",
   "metadata": {},
   "outputs": [],
   "source": [
    "nuavexp = np.zeros((200, 200))\n",
    "for i in range(200):\n",
    "    for j in range(200):\n",
    "        nuavexp[i, j] = sum(nuarray[:, i, j])/nexp"
   ]
  },
  {
   "cell_type": "code",
   "execution_count": null,
   "id": "627f81df-4ca9-4133-afb3-7c1b755f7a04",
   "metadata": {},
   "outputs": [],
   "source": [
    "tmp = np.zeros((nexp, 200, 200))\n",
    "for iexp in range(nexp):\n",
    "    tmp[iexp, :, :] = ((nuarray[iexp, :, :]-zavgexp[:, :])/zavgexp[:, :])**2"
   ]
  },
  {
   "cell_type": "code",
   "execution_count": null,
   "id": "e1ade6e6-4663-4bc6-bd0f-425284ac1f6d",
   "metadata": {},
   "outputs": [],
   "source": [
    "tmp = np.zeros((nexp, 200, 200))\n",
    "for iexp in range(nexp):\n",
    "    tmp[iexp, :, :] = ((nuarray[iexp, :, :]-zavgexp[:, :]))**2"
   ]
  },
  {
   "cell_type": "code",
   "execution_count": null,
   "id": "e85e4734-970b-4894-867f-fc79fb7191c3",
   "metadata": {},
   "outputs": [],
   "source": [
    "spm = np.zeros((200, 200))\n",
    "for i in range(200):\n",
    "    for j in range(200):\n",
    "        spm[i, j] = np.sqrt(\n",
    "            sum(((tmp[:, i, j]-zavgexp[i, j])/zavgexp[i, j])**2)/nexp)"
   ]
  },
  {
   "cell_type": "code",
   "execution_count": null,
   "id": "49cc4c29-1a44-4d82-8120-73608fe07ec5",
   "metadata": {},
   "outputs": [],
   "source": [
    "spm = np.zeros((200, 200))\n",
    "for i in range(200):\n",
    "    for j in range(200):\n",
    "        spm[i, j] = np.sqrt(\n",
    "            sum(((tmp[:, i, j]-zavgexp[i, j]))**2)/nexp)"
   ]
  },
  {
   "cell_type": "code",
   "execution_count": null,
   "id": "ed8c6cdf-ecea-4b28-86c0-22d806756603",
   "metadata": {},
   "outputs": [],
   "source": [
    "print(spm)"
   ]
  },
  {
   "cell_type": "code",
   "execution_count": null,
   "id": "b8d9929e-608e-458d-be99-fbc5886c4166",
   "metadata": {},
   "outputs": [],
   "source": [
    "asum = 0.\n",
    "for i in range(200):\n",
    "    for j in range(200):\n",
    "        asum = asum+spm[i, j]\n",
    "print(asum/200./200.)"
   ]
  },
  {
   "cell_type": "code",
   "execution_count": null,
   "id": "a3652586-0988-4dd2-9309-54f1d75336ff",
   "metadata": {},
   "outputs": [],
   "source": [
    "mm1 = 200\n",
    "mm2 = 200\n",
    "a0 = 0.0\n",
    "a1 = -1.0\n",
    "b0 = 0.3\n",
    "b1 = 0.5\n",
    "b = np.arange(a0, a1, (a1-a0)/mm1)\n",
    "d = np.arange(b0, b1, (b1-b0)/mm2)\n",
    "B, D = np.meshgrid(b, d)\n",
    "n, m = B.shape"
   ]
  },
  {
   "cell_type": "code",
   "execution_count": null,
   "id": "f8e608cf-2509-4483-a034-2866d3dc3c5d",
   "metadata": {},
   "outputs": [],
   "source": [
    "fig = plt.figure(figsize=(12, 12))\n",
    "#ax = Axes3D(fig)\n",
    "ax = fig.add_subplot(projection='3d')\n",
    "ax.plot_surface(B, D, spm)\n",
    "plt.xlabel('$V_1$ (V)', fontsize=22, labelpad=10)\n",
    "plt.ylabel('$V_2$ (V)', fontsize=22, labelpad=10)\n",
    "ax.set_zlabel('spm', fontsize=22, rotation=0, labelpad=16)\n",
    "plt.savefig('spm_' + str(jter) + '.pdf')\n",
    "plt.show()\n",
    "plt.close()"
   ]
  },
  {
   "cell_type": "code",
   "execution_count": null,
   "id": "ecfcd74a-ebf3-4d53-b542-18c28f2c0d3c",
   "metadata": {},
   "outputs": [],
   "source": []
  }
 ],
 "metadata": {
  "kernelspec": {
   "display_name": "Python [conda env:testAI]",
   "language": "python",
   "name": "conda-env-testAI-py"
  },
  "language_info": {
   "codemirror_mode": {
    "name": "ipython",
    "version": 3
   },
   "file_extension": ".py",
   "mimetype": "text/x-python",
   "name": "python",
   "nbconvert_exporter": "python",
   "pygments_lexer": "ipython3",
   "version": "3.11.11"
  }
 },
 "nbformat": 4,
 "nbformat_minor": 5
}
